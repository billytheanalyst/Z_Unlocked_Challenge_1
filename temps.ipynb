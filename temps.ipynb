{
 "cells": [
  {
   "cell_type": "code",
   "execution_count": 2,
   "id": "12b7dcb2",
   "metadata": {},
   "outputs": [],
   "source": [
    "import pandas as pd\n",
    "import seaborn as sns\n",
    "import matplotlib.pyplot as plt\n",
    "import numpy as np"
   ]
  },
  {
   "cell_type": "code",
   "execution_count": 7,
   "id": "74f48002",
   "metadata": {},
   "outputs": [
    {
     "data": {
      "text/plain": [
       "Index(['Domain Code', 'Domain', 'Area Code (ISO3)', 'Area', 'Element Code',\n",
       "       'Element', 'Months Code', 'Months', 'Year Code', 'Year', 'Unit',\n",
       "       'Value', 'Flag', 'Flag Description'],\n",
       "      dtype='object')"
      ]
     },
     "execution_count": 7,
     "metadata": {},
     "output_type": "execute_result"
    }
   ],
   "source": [
    "# Import the data\n",
    "temp = pd.read_csv('temperature_change_data_11-29-2021.csv')\n",
    "temp.columns"
   ]
  },
  {
   "cell_type": "code",
   "execution_count": 8,
   "id": "f9305248",
   "metadata": {},
   "outputs": [
    {
     "data": {
      "text/html": [
       "<div>\n",
       "<style scoped>\n",
       "    .dataframe tbody tr th:only-of-type {\n",
       "        vertical-align: middle;\n",
       "    }\n",
       "\n",
       "    .dataframe tbody tr th {\n",
       "        vertical-align: top;\n",
       "    }\n",
       "\n",
       "    .dataframe thead th {\n",
       "        text-align: right;\n",
       "    }\n",
       "</style>\n",
       "<table border=\"1\" class=\"dataframe\">\n",
       "  <thead>\n",
       "    <tr style=\"text-align: right;\">\n",
       "      <th></th>\n",
       "      <th>Element Code</th>\n",
       "      <th>Months Code</th>\n",
       "      <th>Year Code</th>\n",
       "      <th>Year</th>\n",
       "      <th>Value</th>\n",
       "    </tr>\n",
       "  </thead>\n",
       "  <tbody>\n",
       "    <tr>\n",
       "      <th>count</th>\n",
       "      <td>67625.0</td>\n",
       "      <td>67625.000000</td>\n",
       "      <td>67625.000000</td>\n",
       "      <td>67625.000000</td>\n",
       "      <td>65331.000000</td>\n",
       "    </tr>\n",
       "    <tr>\n",
       "      <th>mean</th>\n",
       "      <td>7271.0</td>\n",
       "      <td>7018.000000</td>\n",
       "      <td>1991.306248</td>\n",
       "      <td>1991.306248</td>\n",
       "      <td>0.491524</td>\n",
       "    </tr>\n",
       "    <tr>\n",
       "      <th>std</th>\n",
       "      <td>0.0</td>\n",
       "      <td>1.414224</td>\n",
       "      <td>17.333343</td>\n",
       "      <td>17.333343</td>\n",
       "      <td>0.820116</td>\n",
       "    </tr>\n",
       "    <tr>\n",
       "      <th>min</th>\n",
       "      <td>7271.0</td>\n",
       "      <td>7016.000000</td>\n",
       "      <td>1961.000000</td>\n",
       "      <td>1961.000000</td>\n",
       "      <td>-5.979000</td>\n",
       "    </tr>\n",
       "    <tr>\n",
       "      <th>25%</th>\n",
       "      <td>7271.0</td>\n",
       "      <td>7017.000000</td>\n",
       "      <td>1976.000000</td>\n",
       "      <td>1976.000000</td>\n",
       "      <td>-0.011000</td>\n",
       "    </tr>\n",
       "    <tr>\n",
       "      <th>50%</th>\n",
       "      <td>7271.0</td>\n",
       "      <td>7018.000000</td>\n",
       "      <td>1992.000000</td>\n",
       "      <td>1992.000000</td>\n",
       "      <td>0.410000</td>\n",
       "    </tr>\n",
       "    <tr>\n",
       "      <th>75%</th>\n",
       "      <td>7271.0</td>\n",
       "      <td>7019.000000</td>\n",
       "      <td>2006.000000</td>\n",
       "      <td>2006.000000</td>\n",
       "      <td>0.932000</td>\n",
       "    </tr>\n",
       "    <tr>\n",
       "      <th>max</th>\n",
       "      <td>7271.0</td>\n",
       "      <td>7020.000000</td>\n",
       "      <td>2020.000000</td>\n",
       "      <td>2020.000000</td>\n",
       "      <td>8.206000</td>\n",
       "    </tr>\n",
       "  </tbody>\n",
       "</table>\n",
       "</div>"
      ],
      "text/plain": [
       "       Element Code   Months Code     Year Code          Year         Value\n",
       "count       67625.0  67625.000000  67625.000000  67625.000000  65331.000000\n",
       "mean         7271.0   7018.000000   1991.306248   1991.306248      0.491524\n",
       "std             0.0      1.414224     17.333343     17.333343      0.820116\n",
       "min          7271.0   7016.000000   1961.000000   1961.000000     -5.979000\n",
       "25%          7271.0   7017.000000   1976.000000   1976.000000     -0.011000\n",
       "50%          7271.0   7018.000000   1992.000000   1992.000000      0.410000\n",
       "75%          7271.0   7019.000000   2006.000000   2006.000000      0.932000\n",
       "max          7271.0   7020.000000   2020.000000   2020.000000      8.206000"
      ]
     },
     "execution_count": 8,
     "metadata": {},
     "output_type": "execute_result"
    }
   ],
   "source": [
    "# Check the basic statistics\n",
    "temp.describe()"
   ]
  },
  {
   "cell_type": "code",
   "execution_count": 10,
   "id": "4217d359",
   "metadata": {},
   "outputs": [
    {
     "data": {
      "text/plain": [
       "Area\n",
       "Afghanistan              300\n",
       "Albania                  300\n",
       "Algeria                  300\n",
       "American Samoa           300\n",
       "Andorra                  300\n",
       "                        ... \n",
       "Montenegro                75\n",
       "Serbia                    75\n",
       "Serbia and Montenegro     70\n",
       "Sudan                     50\n",
       "South Sudan               50\n",
       "Name: count, Length: 247, dtype: int64"
      ]
     },
     "execution_count": 10,
     "metadata": {},
     "output_type": "execute_result"
    }
   ],
   "source": [
    "# Counts the sum of a category in 'Area' value\n",
    "temp['Area'].value_counts()"
   ]
  },
  {
   "cell_type": "code",
   "execution_count": null,
   "id": "926846e1",
   "metadata": {},
   "outputs": [],
   "source": [
    "# Countries to keep\n",
    "areas_to_keep = ['China', 'Germany', 'Japan', 'United States of America']\n",
    "\n",
    "# Filter the data\n",
    "evolution = temp[(temp['Flag Description'] != 'Data Not Available') &\n",
    "                 (temp['Months'] == 'Meteorological year') &\n",
    "                 (temp['Area'].isin(areas_to_keep))].reset_index()\n",
    "\n",
    "#Rename Areas\n",
    "evolution['Area'] = evolution['Area'].replace(to_replace=['United States of America'],\n",
    "                                              value = 'United States')\n",
    "\n",
    "#"
   ]
  }
 ],
 "metadata": {
  "kernelspec": {
   "display_name": "Python 3",
   "language": "python",
   "name": "python3"
  },
  "language_info": {
   "codemirror_mode": {
    "name": "ipython",
    "version": 3
   },
   "file_extension": ".py",
   "mimetype": "text/x-python",
   "name": "python",
   "nbconvert_exporter": "python",
   "pygments_lexer": "ipython3",
   "version": "3.14.0"
  }
 },
 "nbformat": 4,
 "nbformat_minor": 5
}
